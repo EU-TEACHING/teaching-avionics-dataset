{
 "cells": [
  {
   "cell_type": "code",
   "execution_count": null,
   "metadata": {},
   "outputs": [],
   "source": [
    "import pandas as pd\n",
    "import seaborn as sns\n",
    "import matplotlib.pyplot as plt\n",
    "from sklearn.cluster import KMeans\n",
    "from sklearn.metrics import accuracy_score\n",
    "\n",
    "from process import load_trace, METRICS_CONFIGS\n",
    "sns.set_theme()"
   ]
  },
  {
   "cell_type": "code",
   "execution_count": null,
   "metadata": {},
   "outputs": [],
   "source": [
    "anomaly = \"LFBT_LFBL\"\n",
    "metrics_config = 0"
   ]
  },
  {
   "cell_type": "code",
   "execution_count": null,
   "metadata": {},
   "outputs": [],
   "source": [
    "normal_df, _ = load_trace(anomaly, \"xFTx.xx\", metrics_config)\n",
    "stress_df, _ = load_trace(anomaly, \"SFTS.SS\", metrics_config)"
   ]
  },
  {
   "cell_type": "code",
   "execution_count": null,
   "metadata": {},
   "outputs": [],
   "source": [
    "normal_df = (\n",
    "    normal_df[METRICS_CONFIGS[metrics_config]].groupby(normal_df.index // 25).mean()\n",
    ")\n",
    "normal_df.insert(\n",
    "    len(normal_df.axes), \"CONTEXT\", [\"NOSTRESS\" for _ in range(len(normal_df))]\n",
    ")\n",
    "stress_df = (\n",
    "    stress_df[METRICS_CONFIGS[metrics_config]].groupby(stress_df.index // 25).mean()\n",
    ")\n",
    "stress_df.insert(\n",
    "    len(stress_df.axes), \"CONTEXT\", [\"STSB\" for _ in range(len(stress_df))]\n",
    ")\n"
   ]
  },
  {
   "cell_type": "code",
   "execution_count": null,
   "metadata": {},
   "outputs": [],
   "source": [
    "normal_df"
   ]
  },
  {
   "cell_type": "code",
   "execution_count": null,
   "metadata": {},
   "outputs": [],
   "source": [
    "fig, axs = plt.subplots(6, 2, figsize=(12, 15))\n",
    "for i, o in enumerate(METRICS_CONFIGS[metrics_config]):\n",
    "    no_st_ax, st_ax = axs[i][0], axs[i][1]\n",
    "    no_st_ax.set_title(f\"{o} - NO STRESS\")\n",
    "    no_st_ax.set_xlabel(\"clock cycles\")\n",
    "    no_st_ax.set_ylabel(\"op count\")\n",
    "    st_ax.set_title(f\"{o} - STRESS\")\n",
    "    st_ax.set_xlabel(\"clock cycles\")\n",
    "    st_ax.set_ylabel(\"op count\")\n",
    "    normal_df[o].hist(bins=50, ax=no_st_ax)\n",
    "    stress_df[o].hist(bins=50, ax=st_ax)\n",
    "\n",
    "plt.tight_layout()\n",
    "plt.show()\n"
   ]
  },
  {
   "cell_type": "code",
   "execution_count": null,
   "metadata": {},
   "outputs": [],
   "source": [
    "predictors = ['L1D_CACHE_REFILL', 'L2D_CACHE_REFILL', 'L2D_CACHE_WB']"
   ]
  },
  {
   "cell_type": "code",
   "execution_count": null,
   "metadata": {},
   "outputs": [],
   "source": [
    "fig, axs = plt.subplots(1, 2, figsize=(12, 5))\n",
    "sns.boxplot(x=\"variable\", y=\"value\", data=normal_df[predictors].melt(), ax=axs[0])\n",
    "axs[0].set_title(\"NO STRESS\")\n",
    "axs[0].set_xlabel(\"op\")\n",
    "axs[0].set_ylabel(\"clock cycles\")\n",
    "sns.boxplot(x=\"variable\", y=\"value\", data=stress_df[predictors].melt(), ax=axs[1])\n",
    "axs[1].set_xlabel(\"op\")\n",
    "axs[1].set_ylabel(\"clock cycles\")\n",
    "axs[1].set_title(\"STSB\")\n",
    "plt.show()\n"
   ]
  },
  {
   "cell_type": "code",
   "execution_count": null,
   "metadata": {},
   "outputs": [],
   "source": [
    "def drop_quantile(df, q=0.025):\n",
    "    cols = predictors  # one or more\n",
    "\n",
    "    Q1 = df[cols].quantile(q)\n",
    "    Q3 = df[cols].quantile(1 - q)\n",
    "    IQR = Q3 - Q1\n",
    "\n",
    "    df = df[\n",
    "        ~((df[cols] < (Q1 - 1.5 * IQR)) | (df[cols] > (Q3 + 1.5 * IQR))).any(axis=1)\n",
    "    ]\n",
    "    return df\n"
   ]
  },
  {
   "cell_type": "code",
   "execution_count": null,
   "metadata": {},
   "outputs": [],
   "source": [
    "normal_df = drop_quantile(normal_df)\n",
    "stress_df = drop_quantile(stress_df)\n",
    "merged = pd.concat([normal_df, stress_df])\n",
    "model = KMeans(n_clusters=2)\n",
    "model.fit(merged[predictors])\n"
   ]
  },
  {
   "cell_type": "code",
   "execution_count": null,
   "metadata": {},
   "outputs": [],
   "source": [
    "labels = {\"NOSTRESS\": 0, \"STSB\": 1}\n",
    "\n",
    "\n",
    "def test_fn(test_df, model):\n",
    "    results = model.predict(test_df[predictors])\n",
    "    y_true = test_df[\"CONTEXT\"].to_numpy()\n",
    "    y_true = [labels[y] for y in y_true]\n",
    "    y_pred = results\n",
    "    print(\n",
    "        \"Accuracy in regime prediction:\",\n",
    "        f\"{round(accuracy_score(y_true, y_pred) * 100, 2)}%\",\n",
    "    )\n"
   ]
  },
  {
   "cell_type": "code",
   "execution_count": null,
   "metadata": {},
   "outputs": [],
   "source": [
    "test_fn(merged, model)"
   ]
  },
  {
   "attachments": {},
   "cell_type": "markdown",
   "metadata": {},
   "source": [
    "# Test ZTFZ.ZZ: intermittent anomaly"
   ]
  },
  {
   "cell_type": "code",
   "execution_count": null,
   "metadata": {},
   "outputs": [],
   "source": [
    "test_df, _ = load_trace(anomaly, \"ZFTZ.ZZ\", metrics_config)\n",
    "test_df = test_df.reset_index(drop=True)\n",
    "y_true = test_df[\"CONTEXT\"].iloc[::25]\n",
    "y_true = y_true.reset_index(drop=True)\n",
    "test_df = test_df[METRICS_CONFIGS[metrics_config]].groupby(test_df.index // 25).mean()\n",
    "test_df[\"CONTEXT\"] = y_true\n"
   ]
  },
  {
   "cell_type": "code",
   "execution_count": null,
   "metadata": {},
   "outputs": [],
   "source": [
    "fig, axs = plt.subplots(1, 2, figsize=(12, 5))\n",
    "normal_df = test_df[test_df[\"CONTEXT\"] == \"NOSTRESS\"]\n",
    "stress_df = test_df[test_df[\"CONTEXT\"] == \"STSB\"]\n",
    "sns.boxplot(x=\"variable\", y=\"value\", data=normal_df[predictors].melt(), ax=axs[0])\n",
    "axs[0].set_title(\"NO STRESS\")\n",
    "axs[0].set_xlabel(\"op\")\n",
    "axs[0].set_ylabel(\"clock cycles\")\n",
    "sns.boxplot(x=\"variable\", y=\"value\", data=stress_df[predictors].melt(), ax=axs[1])\n",
    "axs[1].set_xlabel(\"op\")\n",
    "axs[1].set_ylabel(\"clock cycles\")\n",
    "axs[1].set_title(\"STSB\")\n",
    "plt.show()\n"
   ]
  },
  {
   "cell_type": "code",
   "execution_count": null,
   "metadata": {},
   "outputs": [],
   "source": [
    "test_fn(test_df, model)"
   ]
  },
  {
   "cell_type": "code",
   "execution_count": null,
   "metadata": {},
   "outputs": [],
   "source": [
    "import pickle\n",
    "\n",
    "with open(f'models/{anomaly}_kmeans.pkl', 'wb+') as f:\n",
    "    pickle.dump({'headers': predictors, 'model': model}, f)"
   ]
  },
  {
   "cell_type": "code",
   "execution_count": null,
   "metadata": {},
   "outputs": [],
   "source": []
  }
 ],
 "metadata": {
  "kernelspec": {
   "display_name": "avionics",
   "language": "python",
   "name": "python3"
  },
  "language_info": {
   "codemirror_mode": {
    "name": "ipython",
    "version": 3
   },
   "file_extension": ".py",
   "mimetype": "text/x-python",
   "name": "python",
   "nbconvert_exporter": "python",
   "pygments_lexer": "ipython3",
   "version": "3.8.16"
  },
  "orig_nbformat": 4,
  "vscode": {
   "interpreter": {
    "hash": "6ea2eebb834f215d88685a1571762727c923ebd840b04d6e88c80fe7e88d1e99"
   }
  }
 },
 "nbformat": 4,
 "nbformat_minor": 2
}
